{
 "cells": [
  {
   "cell_type": "markdown",
   "metadata": {
    "colab_type": "text",
    "id": "P6xk2_jLsvFF"
   },
   "source": [
    "# [作業目標]\n",
    "\n",
    "1. 請問下列運算的結果為何？\n",
    "\n",
    "```\n",
    "1 + 3*2 # \n",
    "1 + 3**2 #\n",
    "(1 + 3)*2 # \n",
    "1 + 3 / 2 *2 # \n",
    "1 + 3 // 2 *2 # \n",
    "1 + 3 / 2 **2 # \n",
    "1 + 3 // 2 **2 #  \n",
    "```\n",
    "\n",
    "\n",
    "2. 下列是一個計算開根號的程式，請將缺空的地方補齊，讓程式運作正確。\n",
    "\n",
    "```\n",
    "num = 16\n",
    "'''\n",
    "Your Code\n",
    "'''\n",
    "print('The square root of %0.3f is %0.3f' % (num ,num_sqrt))\n",
    "```\n"
   ]
  },
  {
   "cell_type": "markdown",
   "metadata": {
    "colab_type": "text",
    "id": "uXGll28asvFS"
   },
   "source": [
    "# 作業 "
   ]
  },
  {
   "cell_type": "markdown",
   "metadata": {},
   "source": [
    "### 1. 請問下列運算的結果為何？\n",
    "\n",
    "```\n",
    "1 + 3*2 # \n",
    "1 + 3**2 #\n",
    "(1 + 3)*2 # \n",
    "1 + 3 / 2 *2 # \n",
    "1 + 3 // 2 *2 # \n",
    "1 + 3 / 2 **2 # \n",
    "1 + 3 // 2 **2 #  \n",
    "```\n",
    "\n",
    "\n"
   ]
  },
  {
   "cell_type": "code",
   "execution_count": 4,
   "metadata": {
    "colab": {},
    "colab_type": "code",
    "id": "5QrYoyNWsvFS"
   },
   "outputs": [
    {
     "name": "stdout",
     "output_type": "stream",
     "text": [
      "7\n",
      "10\n",
      "8\n",
      "4.0\n",
      "3\n",
      "1.75\n",
      "1\n"
     ]
    }
   ],
   "source": [
    "print(1 + 3*2)\n",
    "print(1 + 3**2)\n",
    "print((1 + 3)*2)\n",
    "print(1 + 3 / 2 *2)\n",
    "print(1 + 3 // 2 *2)\n",
    "print(1 + 3 / 2 **2)\n",
    "print(1 + 3 // 2 **2)"
   ]
  },
  {
   "cell_type": "markdown",
   "metadata": {},
   "source": [
    "### 2. 下列是一個計算開根號的程式，請將缺空的地方補齊，讓程式運作正確。\n"
   ]
  },
  {
   "cell_type": "code",
   "execution_count": 5,
   "metadata": {
    "colab": {},
    "colab_type": "code",
    "id": "e1gVI0tvsvFY",
    "scrolled": false
   },
   "outputs": [
    {
     "name": "stdout",
     "output_type": "stream",
     "text": [
      "The square root of 16.000 is 4.000\n"
     ]
    }
   ],
   "source": [
    "num = 16\n",
    "num_sqrt = num **0.5\n",
    "\n",
    "print('The square root of %0.3f is %0.3f' % (num, num_sqrt))\n"
   ]
  }
 ],
 "metadata": {
  "colab": {
   "name": "Day_023_HW.ipynb",
   "provenance": []
  },
  "kernelspec": {
   "display_name": "Python 3",
   "language": "python",
   "name": "python3"
  },
  "language_info": {
   "codemirror_mode": {
    "name": "ipython",
    "version": 3
   },
   "file_extension": ".py",
   "mimetype": "text/x-python",
   "name": "python",
   "nbconvert_exporter": "python",
   "pygments_lexer": "ipython3",
   "version": "3.8.5"
  }
 },
 "nbformat": 4,
 "nbformat_minor": 1
}
