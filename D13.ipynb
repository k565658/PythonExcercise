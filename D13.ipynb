{
 "cells": [
  {
   "cell_type": "markdown",
   "metadata": {
    "id": "P6xk2_jLsvFF"
   },
   "source": [
    "# [作業目標]\n",
    "\n",
    "\n",
    "1. 請將一個字典的 Key 和 Value 對調，例如：\n",
    "\n",
    "  * 輸入：{\"name\": \"qiwsir\", \"site\": \"qiwsir.github.io\", \"lang\": \"python\"}\n",
    "  * 輸出：{\"qiwsir\": \"name\", \"qiwsir.github.io\": \"site\", \"python\": \"lang\"}\n",
    "\n",
    "\n",
    "2. 有兩個由 Dictionary 所組成的 List，請問如何依照相同 index 合併成一個 List。\n",
    "\n",
    "\n"
   ]
  },
  {
   "cell_type": "markdown",
   "metadata": {
    "id": "uXGll28asvFS"
   },
   "source": [
    "# 作業 "
   ]
  },
  {
   "cell_type": "markdown",
   "metadata": {
    "id": "5EuFjUvwBBeO"
   },
   "source": [
    "### 1. 請將一個字典的 Key 和 Value 對調，例如：\n",
    "\n",
    "* 輸入：{\"name\": \"qiwsir\", \"site\": \"qiwsir.github.io\", \"lang\": \"python\"}\n",
    "* 輸出：{\"qiwsir\": \"name\", \"qiwsir.github.io\": \"site\", \"python\": \"lang\"}"
   ]
  },
  {
   "cell_type": "code",
   "execution_count": 7,
   "metadata": {
    "id": "jsS7JEAFBBeO"
   },
   "outputs": [
    {
     "data": {
      "text/plain": [
       "{'qiwsir': 'name', 'qiwsir.github.io': 'site', 'python': 'lang'}"
      ]
     },
     "execution_count": 7,
     "metadata": {},
     "output_type": "execute_result"
    }
   ],
   "source": [
    "x= {\"name\": \"qiwsir\", \"site\": \"qiwsir.github.io\", \"lang\": \"python\"}\n",
    "{value:key for key,value in x.items()}"
   ]
  },
  {
   "cell_type": "markdown",
   "metadata": {
    "id": "vAOXJMPWBBeP"
   },
   "source": [
    "### 2. 有兩個由 Dictionary 所組成的 List，請問如何依照相同 index 合併成一個 List。"
   ]
  },
  {
   "cell_type": "code",
   "execution_count": 4,
   "metadata": {
    "id": "wJYQZ8arBBeP"
   },
   "outputs": [
    {
     "name": "stdout",
     "output_type": "stream",
     "text": [
      "[]\n"
     ]
    }
   ],
   "source": [
    "a = [{'name': 'Mark', 'sex': 'male'}, {'name': 'Mary', 'sex': 'female'}]\n",
    "b = [{'age': 16}, {'age': 18}]\n",
    "L = []\n",
    "\n",
    "'''\n",
    "Your Code\n",
    "'''\n",
    "\n",
    "print(L) # [{'name': 'Mark', 'sex': 'male', 'age': 16}, {'name': 'Mary', 'sex': 'female', 'age': 18}]"
   ]
  },
  {
   "cell_type": "code",
   "execution_count": 10,
   "metadata": {},
   "outputs": [],
   "source": [
    "a = [{'name': 'Mark', 'sex': 'male'}, {'name': 'Mary', 'sex': 'female'}]\n",
    "b = [{'age': 16}, {'age': 18}]\n",
    "L = []\n",
    "\n",
    "for i,j in zip(a,b):\n",
    "    i.update(j)\n",
    "    L.append(i)"
   ]
  },
  {
   "cell_type": "code",
   "execution_count": null,
   "metadata": {},
   "outputs": [],
   "source": []
  },
  {
   "cell_type": "code",
   "execution_count": null,
   "metadata": {},
   "outputs": [],
   "source": []
  }
 ],
 "metadata": {
  "colab": {
   "name": "13 Homework.ipynb",
   "provenance": []
  },
  "kernelspec": {
   "display_name": "Python 3",
   "language": "python",
   "name": "python3"
  },
  "language_info": {
   "codemirror_mode": {
    "name": "ipython",
    "version": 3
   },
   "file_extension": ".py",
   "mimetype": "text/x-python",
   "name": "python",
   "nbconvert_exporter": "python",
   "pygments_lexer": "ipython3",
   "version": "3.8.5"
  }
 },
 "nbformat": 4,
 "nbformat_minor": 1
}
