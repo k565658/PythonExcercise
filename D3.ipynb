{
 "cells": [
  {
   "cell_type": "markdown",
   "metadata": {
    "colab_type": "text",
    "id": "P6xk2_jLsvFF"
   },
   "source": [
    "# [作業目標]\n",
    "\n",
    "1. 將以下變數設置為相應的數值：\n",
    "\n",
    "    * my_int to the value 7\n",
    "    * my_float to the value 1.23\n",
    "    * my_bool to the value True\n",
    "    * my_Int to the value 3\n",
    "\n",
    "\n",
    "2. 請利用定義的變數運行以下操作，並解釋結果為何\n",
    "\n",
    "```\n",
    "print(my_int == my_Int)\n",
    "print(my_int != my_Int)\n",
    "print(type(my_int))\n",
    "print(type(my_float))\n",
    "print(type(my_bool)) \n",
    "```\n",
    "\n",
    "\n"
   ]
  },
  {
   "cell_type": "markdown",
   "metadata": {
    "colab_type": "text",
    "id": "uXGll28asvFS"
   },
   "source": [
    "# 作業 "
   ]
  },
  {
   "cell_type": "markdown",
   "metadata": {},
   "source": [
    "### 1. 將以下變數設置為相應的數值：\n",
    "\n",
    "* my_int to the value 7\n",
    "* my_float to the value 1.23\n",
    "* my_bool to the value True\n",
    "* my_Int to the value 3\n"
   ]
  },
  {
   "cell_type": "code",
   "execution_count": null,
   "metadata": {
    "colab": {},
    "colab_type": "code",
    "id": "5QrYoyNWsvFS"
   },
   "outputs": [],
   "source": [
    "'''\n",
    "Your Code\n",
    "'''"
   ]
  },
  {
   "cell_type": "markdown",
   "metadata": {},
   "source": [
    "### 2. 請利用定義的變數運行以下操作，並解釋結果為何\n",
    "\n",
    "```\n",
    "print(my_int == my_Int)\n",
    "print(my_int != my_Int)\n",
    "print(type(my_int))\n",
    "print(type(my_float))\n",
    "print(type(my_bool)) \n",
    "```\n"
   ]
  },
  {
   "cell_type": "code",
   "execution_count": 1,
   "metadata": {
    "colab": {},
    "colab_type": "code",
    "id": "e1gVI0tvsvFY",
    "scrolled": true
   },
   "outputs": [
    {
     "data": {
      "text/plain": [
       "'\\nYour Code\\n'"
      ]
     },
     "execution_count": 1,
     "metadata": {},
     "output_type": "execute_result"
    }
   ],
   "source": [
    "'''\n",
    "Your Code\n",
    "'''"
   ]
  }
 ],
 "metadata": {
  "colab": {
   "name": "Day_023_HW.ipynb",
   "provenance": []
  },
  "kernelspec": {
   "display_name": "Python 3",
   "language": "python",
   "name": "python3"
  },
  "language_info": {
   "codemirror_mode": {
    "name": "ipython",
    "version": 3
   },
   "file_extension": ".py",
   "mimetype": "text/x-python",
   "name": "python",
   "nbconvert_exporter": "python",
   "pygments_lexer": "ipython3",
   "version": "3.6.5"
  }
 },
 "nbformat": 4,
 "nbformat_minor": 1
}
